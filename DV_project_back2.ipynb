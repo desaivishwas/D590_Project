{
  "nbformat": 4,
  "nbformat_minor": 0,
  "metadata": {
    "colab": {
      "name": "DV_project_back1.ipynb",
      "provenance": [],
      "include_colab_link": true
    },
    "kernelspec": {
      "name": "python3",
      "display_name": "Python 3"
    },
    "language_info": {
      "name": "python"
    }
  },
  "cells": [
    {
      "cell_type": "markdown",
      "metadata": {
        "id": "view-in-github",
        "colab_type": "text"
      },
      "source": [
        "<a href=\"https://colab.research.google.com/github/desaivishwas/D590_Project/blob/main/DV_project_back2.ipynb\" target=\"_parent\"><img src=\"https://colab.research.google.com/assets/colab-badge.svg\" alt=\"Open In Colab\"/></a>"
      ]
    },
    {
      "cell_type": "code",
      "metadata": {
        "id": "hXqXYlCrHmOg"
      },
      "source": [
        "def configure_plotly_browser_state():\n",
        "  import IPython\n",
        "  display(IPython.core.display.HTML(\n",
        "      '''\n",
        "        <script src=\"/static/components/requirejs/require.js\"></script>\n",
        "        <script>\n",
        "          requirejs.config({\n",
        "            paths: {\n",
        "              base: '/static/base',\n",
        "              plotly: 'https://cdn.plot.ly/plotly-1.5.1.min.js?noext',\n",
        "            },\n",
        "          });\n",
        "        </script>\n",
        "        '''\n",
        "))"
      ],
      "execution_count": null,
      "outputs": []
    },
    {
      "cell_type": "markdown",
      "metadata": {
        "id": "jg8ZM3SL4P9K"
      },
      "source": [
        "# Indian Cinema through Data\n",
        "\n",
        "`The goal of this visualization is to analyze various aspects that contribute to the success of a film. A commercial picture can not only entertain the masses but also make a lot of money for the creators. A good director, excellent actors, production house, technicians such as editors/cinematographers, and the timing of the movie's release are all key factors in determining whether or not a film will make money. Indian cinema, one of the world’s oldest cinemas is a broad term that refers to a variety of film industries in India, which are mostly split by languages and regions. The Hindi film industry, popularly known as Bollywood, will be our primary emphasis. We hope to visually explore what makes a Bollywood film successful as well as provide a brief overview of Indian cinema with this project.`\n",
        "\n"
      ]
    },
    {
      "cell_type": "code",
      "metadata": {
        "id": "E1fXFdv54EeB"
      },
      "source": [
        "configure_plotly_browser_state()\n",
        "import pandas as pd\n",
        "import plotly.express as px\n",
        "import seaborn  as sns\n",
        "import matplotlib.pyplot as plt\n",
        "import wordcloud\n",
        "import datetime\n",
        "from IPython.display import HTML\n",
        "# import plotly.io as pio\n",
        "# pio.renderers.default='colab'"
      ],
      "execution_count": null,
      "outputs": []
    },
    {
      "cell_type": "code",
      "metadata": {
        "id": "Aoa-oNdw44MV"
      },
      "source": [
        "movies = pd.read_csv('/content/bollywood_full.csv')\n",
        "movies.info()"
      ],
      "execution_count": null,
      "outputs": []
    },
    {
      "cell_type": "code",
      "metadata": {
        "id": "6OlvIj8u7Hd2"
      },
      "source": [
        "movies.head()"
      ],
      "execution_count": null,
      "outputs": []
    },
    {
      "cell_type": "code",
      "metadata": {
        "id": "TJObEI127MFf"
      },
      "source": [
        "movies = movies.drop(columns=['poster_path', 'wiki_link', 'summary', 'tagline', 'title_x', 'title_y', 'story', 'release_date'])"
      ],
      "execution_count": null,
      "outputs": []
    },
    {
      "cell_type": "code",
      "metadata": {
        "id": "fn2j8IGAgpxB"
      },
      "source": [
        "movies = movies.rename(columns={\"original_title\":\"title\", \"wins_nominations\": \"awards\", \"year_of_release\":\"year\"})"
      ],
      "execution_count": null,
      "outputs": []
    },
    {
      "cell_type": "code",
      "metadata": {
        "id": "McmYcUZtDLEe"
      },
      "source": [
        "# movies['year'] = movies['year'].replace(r'\\r+|\\n+|\\t+','', regex=True)"
      ],
      "execution_count": null,
      "outputs": []
    },
    {
      "cell_type": "code",
      "metadata": {
        "id": "Fx8OLJwt9pKS"
      },
      "source": [
        "# movies['year'].str.count('N').sum()\n",
        "movies['year'] = movies['year'].replace('N','', regex=True)\n",
        "movies = movies.replace(r'\\\\','', regex=True)\n",
        "movies = movies.replace('N','', regex=True)"
      ],
      "execution_count": null,
      "outputs": []
    },
    {
      "cell_type": "code",
      "metadata": {
        "id": "7ySdnTSAnXjh"
      },
      "source": [
        "movies.head()"
      ],
      "execution_count": null,
      "outputs": []
    },
    {
      "cell_type": "markdown",
      "metadata": {
        "id": "z0gu0Bp_-d68"
      },
      "source": [
        "## Checking for null values in the dataset"
      ]
    },
    {
      "cell_type": "code",
      "metadata": {
        "id": "_cwR7blK8P0R"
      },
      "source": [
        "movies.isnull().sum()"
      ],
      "execution_count": null,
      "outputs": []
    },
    {
      "cell_type": "markdown",
      "metadata": {
        "id": "xZHUpzmc-jEY"
      },
      "source": [
        "### Replacing the null vlaues with 0"
      ]
    },
    {
      "cell_type": "code",
      "metadata": {
        "id": "lrKxMakG869j"
      },
      "source": [
        "movies = movies.fillna(0)"
      ],
      "execution_count": null,
      "outputs": []
    },
    {
      "cell_type": "code",
      "metadata": {
        "id": "onqpqjj69H4n"
      },
      "source": [
        "# checking again for null values\n",
        "movies.isnull().sum()"
      ],
      "execution_count": null,
      "outputs": []
    },
    {
      "cell_type": "code",
      "metadata": {
        "id": "meS8lq596ebF"
      },
      "source": [
        " counts = movies['year'].value_counts().to_frame(\"counts\")"
      ],
      "execution_count": null,
      "outputs": []
    },
    {
      "cell_type": "code",
      "metadata": {
        "id": "RsZpuDdJA68R"
      },
      "source": [
        "counts = counts.rename_axis(\"year\", axis=\"columns\")\n",
        "counts.sort_index().head()"
      ],
      "execution_count": null,
      "outputs": []
    },
    {
      "cell_type": "code",
      "metadata": {
        "id": "hkHL4-aGHIe3"
      },
      "source": [
        "ax = counts.sort_index().plot(kind='line', figsize = (20, 20), title='# of movies per year from 1950-2019', c='red')\n",
        "ax.set_xlabel(\"Years\")\n",
        "ax.set_ylabel(\"# of moviees released\")"
      ],
      "execution_count": null,
      "outputs": []
    },
    {
      "cell_type": "markdown",
      "metadata": {
        "id": "bN5QfG4278yb"
      },
      "source": [
        "## WordCloud for movie genres"
      ]
    },
    {
      "cell_type": "code",
      "metadata": {
        "id": "5nUHpWfD2Ooe"
      },
      "source": [
        "unique_genres = []\n",
        "for i in range(len(movies)):\n",
        "    genres = movies.at[i, 'genres']\n",
        "    for genre in genres.split('|'):\n",
        "        if genre not in unique_genres:\n",
        "            unique_genres.append(genre)"
      ],
      "execution_count": null,
      "outputs": []
    },
    {
      "cell_type": "code",
      "metadata": {
        "id": "JzhkB1nG2h_i"
      },
      "source": [
        "movie_df = movies.copy()\n",
        "total = len(movies)\n",
        "for genre in unique_genres:\n",
        "    movie_df[genre] = [0] * total\n",
        "\n",
        "for i in range(len(movies)):\n",
        "    genres = movie_df.at[i, 'genres']\n",
        "    for genre in genres.split(\"|\"):\n",
        "        movie_df.at[i, genre] = 1"
      ],
      "execution_count": null,
      "outputs": []
    },
    {
      "cell_type": "code",
      "metadata": {
        "id": "B5lf6tnH3gVv"
      },
      "source": [
        "movie_df.head(2)"
      ],
      "execution_count": null,
      "outputs": []
    },
    {
      "cell_type": "code",
      "metadata": {
        "id": "wpV-p5ST6RzW"
      },
      "source": [
        "from wordcloud import WordCloud\n",
        "\n",
        "# plt.figure(figsize=(12,6))\n",
        "wordcloud = WordCloud(background_color='black', width=600, height=300, max_font_size=150, \n",
        "                      max_words=200).generate(str(unique_genres))\n",
        "wordcloud.recolor(random_state=0)\n",
        "plt.figure(figsize = (14, 10),facecolor='k')\n",
        "# plt.title(\"Wordcloud for gneres\", fontsize=30)\n",
        "plt.imshow(wordcloud)\n",
        "plt.axis(\"off\")\n",
        "plt.tight_layout(pad = 0)\n",
        "plt.show()"
      ],
      "execution_count": null,
      "outputs": []
    },
    {
      "cell_type": "markdown",
      "metadata": {
        "id": "rMcmDgdG8Add"
      },
      "source": [
        "## Conclusion"
      ]
    },
    {
      "cell_type": "markdown",
      "metadata": {
        "id": "EEPU7l_NZ2jl"
      },
      "source": [
        "## Top 25 highest rated movies in the data"
      ]
    },
    {
      "cell_type": "code",
      "metadata": {
        "id": "5Q_t912daHCE"
      },
      "source": [
        "ratings_df = movies.sort_values(by= 'imdb_rating', ascending=False)"
      ],
      "execution_count": null,
      "outputs": []
    },
    {
      "cell_type": "code",
      "metadata": {
        "id": "cymW5fbWj-El"
      },
      "source": [
        "plt.figure(figsize=(22,12))\n",
        "sns.histplot(data=ratings_df, x='imdb_rating', color='C2')"
      ],
      "execution_count": null,
      "outputs": []
    },
    {
      "cell_type": "code",
      "metadata": {
        "id": "l_GQ58t9bb0r"
      },
      "source": [
        "top10_df = ratings_df[:10]\n",
        "top10_df.plot(x=\"title\", y=\"imdb_rating\", kind=\"barh\", figsize=(20, 10), color='C1')"
      ],
      "execution_count": null,
      "outputs": []
    },
    {
      "cell_type": "code",
      "metadata": {
        "id": "2qQnOB4Z6afn"
      },
      "source": [
        "runtime_df = movies.copy()\n",
        "runtime_df['runtime'] = pd.to_numeric(runtime_df['runtime'], errors='raise')\n",
        "# runtime_df = movies.sort_values('runtime', ascending=False)"
      ],
      "execution_count": null,
      "outputs": []
    },
    {
      "cell_type": "code",
      "metadata": {
        "id": "5lpBe0cuKwAH"
      },
      "source": [
        "runtime_df = runtime_df.drop_duplicates()"
      ],
      "execution_count": null,
      "outputs": []
    },
    {
      "cell_type": "code",
      "metadata": {
        "id": "UIYHeexkJMCp"
      },
      "source": [
        "runtime_df.head()"
      ],
      "execution_count": null,
      "outputs": []
    },
    {
      "cell_type": "code",
      "metadata": {
        "id": "6TESr24_j1Le"
      },
      "source": [
        "# ax =runtime_df['runtime'].histplot(kind='hist',bins=10)\n",
        "plt.figure(figsize=(22,12))\n",
        "sns.histplot(data=runtime_df, x='runtime', color='C5')"
      ],
      "execution_count": null,
      "outputs": []
    },
    {
      "cell_type": "code",
      "metadata": {
        "id": "FRCG4O4VCyP7"
      },
      "source": [
        "configure_plotly_browser_state()\n",
        "top10_runtime = runtime_df[:10]\n",
        "plt.figure(figsize=(22,12))\n",
        "# sns.barplot(x=\"title\", y=\"runtime\",data= top10_runtime, palette=\"Blues_d\",hue=\"runtime\")\n",
        "fig = px.bar(top10_runtime, y=\"runtime\",x=\"title\",title=\"Top 10 longest movies in Bollywod \",color=\"title\", labels={'title':'Movie Title', 'runtime':'Movie runtime (in Mins)'})\n",
        "HTML(fig.to_html())\n",
        "# fig.show(renderer=\"colab\")"
      ],
      "execution_count": null,
      "outputs": []
    },
    {
      "cell_type": "code",
      "metadata": {
        "id": "kucCULB5fqgm"
      },
      "source": [
        "fig.show()"
      ],
      "execution_count": null,
      "outputs": []
    },
    {
      "cell_type": "markdown",
      "metadata": {
        "id": "jh7CVAlyOQs-"
      },
      "source": [
        "### Coclusion"
      ]
    },
    {
      "cell_type": "markdown",
      "metadata": {
        "id": "P_c8ay9V8zGi"
      },
      "source": [
        "## Failed experiment\n",
        "Write About imdb api - bufge / boxoffice"
      ]
    },
    {
      "cell_type": "markdown",
      "metadata": {
        "id": "6L0fj2XA85Oq"
      },
      "source": [
        "## Looking for other sources of data"
      ]
    },
    {
      "cell_type": "markdown",
      "metadata": {
        "id": "2h9Vn_jQ-5y1"
      },
      "source": [
        "### About the dataset\n",
        "\n",
        "## Bollywood Box Office (2017-2020) from kagagle\n",
        "\n",
        "\n",
        "#### notes: Bias will be there, less date, does not give a compelt picture, improvemnts, etc\n",
        "## maybe conver INR to dollar for safety"
      ]
    },
    {
      "cell_type": "code",
      "metadata": {
        "id": "MVRJc5Sm1jaP"
      },
      "source": [
        "data = pd.read_csv('/content/bollywood_box_clean.csv')\n",
        "data.head(3)"
      ],
      "execution_count": null,
      "outputs": []
    },
    {
      "cell_type": "code",
      "metadata": {
        "id": "qLjJgEEy8tIU"
      },
      "source": [
        "import plotly.express as px\n",
        "configure_plotly_browser_state()\n",
        "high_earning=data.sort_values('movie_total_worldwide', ascending = False)\n",
        "high_earning=high_earning.head(10)\n",
        "fig =px.bar(high_earning, y=\"movie_total_worldwide\",x=\"movie_name\",title=\"Top 10 Highest Box Office Collections \",color=\"movie_name\", labels={'movie_name':\"movies\", \"movie_total_worldwide\":\"Gross Worldwide\"})\n",
        "HTML(fig.to_html())\n"
      ],
      "execution_count": null,
      "outputs": []
    },
    {
      "cell_type": "code",
      "metadata": {
        "id": "A9vHXIDef9RR"
      },
      "source": [
        "fig.show()"
      ],
      "execution_count": null,
      "outputs": []
    },
    {
      "cell_type": "markdown",
      "metadata": {
        "id": "XzORnZzA_Wdp"
      },
      "source": [
        "## genre liked by the audience"
      ]
    },
    {
      "cell_type": "code",
      "metadata": {
        "id": "Vo4o-Njv9Dzc"
      },
      "source": [
        "topgenre = data.groupby([\"movie_genre\"])[\"movie_total_worldwide\"].sum().reset_index()\n",
        "configure_plotly_browser_state()\n",
        "fig = px.scatter(topgenre,'movie_genre','movie_total_worldwide',size=\"movie_total_worldwide\",color=\"movie_genre\",title=\"Which Genre is most liked by Audience\")\n",
        "HTML(fig.to_html())"
      ],
      "execution_count": null,
      "outputs": []
    },
    {
      "cell_type": "code",
      "metadata": {
        "id": "OaFBIsqMgLBY"
      },
      "source": [
        "fig.show()"
      ],
      "execution_count": null,
      "outputs": []
    },
    {
      "cell_type": "code",
      "metadata": {
        "id": "HG-Y-gDl_amy"
      },
      "source": [
        "configure_plotly_browser_state()\n",
        "fig = px.pie(data,'release_year','movie_total_worldwide',title=\"In Which Year Most Profit Collected\")\n",
        "HTML(fig.to_html())"
      ],
      "execution_count": null,
      "outputs": []
    },
    {
      "cell_type": "code",
      "metadata": {
        "id": "SNes-udPgSKJ"
      },
      "source": [
        "fig.show()"
      ],
      "execution_count": null,
      "outputs": []
    },
    {
      "cell_type": "code",
      "metadata": {
        "id": "gvCzS1Ex_rf4"
      },
      "source": [
        "configure_plotly_browser_state()\n",
        "\n",
        "topdir = data.groupby([\"movie_director\"])[\"movie_total_worldwide\"].sum().reset_index()\n",
        "topdir=topdir.sort_values(\"movie_total_worldwide\",ascending=False)\n",
        "topdir=topdir.head(10)\n",
        "fig = px.bar(topdir,\"movie_director\",\"movie_total_worldwide\",title=\"Top 10 Directors With Highest Movie Earnings \",color=\"movie_director\")\n",
        "HTML(fig.to_html())"
      ],
      "execution_count": null,
      "outputs": []
    },
    {
      "cell_type": "code",
      "metadata": {
        "id": "_AjAF3pngbrJ"
      },
      "source": [
        "fig.show()"
      ],
      "execution_count": null,
      "outputs": []
    },
    {
      "cell_type": "code",
      "metadata": {
        "id": "8SHzPCsU_4II"
      },
      "source": [
        "configure_plotly_browser_state()\n",
        "\n",
        "fig = px.scatter(data, x=\"runtime\", y=\"movie_total_worldwide\", color=\"release_year\",\n",
        "                 size='movie_total_worldwide')\n",
        "HTML(fig.to_html())"
      ],
      "execution_count": null,
      "outputs": []
    },
    {
      "cell_type": "code",
      "metadata": {
        "id": "NSX3LiO1gnTC"
      },
      "source": [
        "fig.show()"
      ],
      "execution_count": null,
      "outputs": []
    },
    {
      "cell_type": "code",
      "metadata": {
        "id": "mTucN5rLBFFS"
      },
      "source": [
        "months = [\"Jan\", \"Feb\", \"Mar\", \"Apr\", \"May\", \"Jun\", \"Jul\",\n",
        "          \"Aug\", \"Sept\", \"Oct\", \"Nov\", \"Dec\"]\n",
        "sns.set_style(\"darkgrid\")\n",
        "plt.style.use(\"fivethirtyeight\")\n",
        "plt.figure(figsize = (16, 8))\n",
        "sns.boxplot(x = \"release_month\", y = \"movie_total\", data = data, order = months)\n",
        "plt.ylabel(\"Crores INR\")\n",
        "plt.xlabel(\"Month\")\n",
        "plt.title(\"Domestic Gross of Indian Movies by Month\")"
      ],
      "execution_count": null,
      "outputs": []
    },
    {
      "cell_type": "code",
      "metadata": {
        "id": "PQUHqOerCn1j"
      },
      "source": [
        "sns.set_style(\"darkgrid\")\n",
        "plt.style.use(\"fivethirtyeight\")\n",
        "plt.figure(figsize = (16, 8))\n",
        "sns.boxplot(x = \"release_month\", y = \"movie_total_worldwide\", data = data, order = months)\n",
        "plt.ylabel(\"Crores INR\")\n",
        "plt.xlabel(\"Month\")\n",
        "plt.title(\"Worldwide Gross of Indian Movies by Month\")"
      ],
      "execution_count": null,
      "outputs": []
    }
  ]
}